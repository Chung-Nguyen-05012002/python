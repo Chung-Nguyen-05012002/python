{
 "cells": [
  {
   "cell_type": "markdown",
   "id": "d0b59e36",
   "metadata": {},
   "source": [
    "CÂU 1 : VIẾT CHƯƠNG TRÌNH IN RA PHẦN DƯ CỦA PHÉP CHIA HAI SỐ NGUYÊN "
   ]
  },
  {
   "cell_type": "code",
   "execution_count": 2,
   "id": "86bb766c",
   "metadata": {},
   "outputs": [
    {
     "name": "stdout",
     "output_type": "stream",
     "text": [
      "nhập a : 2\n",
      "nhập b : 3\n",
      "2\n"
     ]
    }
   ],
   "source": [
    "a = input(\"nhập a : \")\n",
    "b = input(\"nhập b : \")\n",
    "a = int(a)\n",
    "b = int(b)\n",
    "c = a % b\n",
    "print(c)"
   ]
  },
  {
   "cell_type": "markdown",
   "id": "0669e6ff",
   "metadata": {},
   "source": [
    "câu 2 : viết chương trình kiểm tra tính chẵn lẻ của một số "
   ]
  },
  {
   "cell_type": "code",
   "execution_count": 9,
   "id": "3099f6b5",
   "metadata": {},
   "outputs": [
    {
     "name": "stdout",
     "output_type": "stream",
     "text": [
      "nhập n : 19\n",
      "FALSE\n"
     ]
    }
   ],
   "source": [
    "n = input(\"nhập n : \")\n",
    "n = int(n)\n",
    "if n % 2 == 0:\n",
    "   print(\"TRUE\")\n",
    "else:\n",
    "    print(\"FALSE\")"
   ]
  },
  {
   "cell_type": "markdown",
   "id": "7f4af5b5",
   "metadata": {},
   "source": [
    "Câu 3 : viết chương trình nhân tất cả các phần tử trong 1 list các số nguyên\n",
    "bởi một số k và loại bỏ các phần tử <= 0"
   ]
  },
  {
   "cell_type": "code",
   "execution_count": 2,
   "id": "7ec5c26a",
   "metadata": {},
   "outputs": [
    {
     "name": "stdout",
     "output_type": "stream",
     "text": [
      "nhập k : 2\n",
      "[2, 6, 8, 10, 14]\n"
     ]
    }
   ],
   "source": [
    "my_list = [1,-2,3,4 ,5,0,7]\n",
    "k = input(\"nhập k : \")\n",
    "k = int(k)\n",
    "my_new_list = [i * k for i in my_list if i > 0]\n",
    "print(my_new_list)"
   ]
  },
  {
   "cell_type": "markdown",
   "id": "5316efde",
   "metadata": {},
   "source": [
    "Câu 4 : tìm số thứ k trong dãy fibonacci"
   ]
  },
  {
   "cell_type": "code",
   "execution_count": 3,
   "id": "668f6fca",
   "metadata": {},
   "outputs": [],
   "source": [
    "def fibo(k):\n",
    "    a = 0\n",
    "    b = 1\n",
    "    if k < 0 :\n",
    "        print(\"incorrect input\")\n",
    "    elif n == 0:\n",
    "        return a\n",
    "    elif n == 1:\n",
    "        return b\n",
    "    else:\n",
    "        for i in range(2, n + 1):\n",
    "            c = a + b\n",
    "            a = b\n",
    "            b = c\n",
    "        return b\n",
    "    print(fibo(5))\n",
    "            "
   ]
  },
  {
   "cell_type": "markdown",
   "id": "722937a7",
   "metadata": {},
   "source": [
    "câu 5 : viết chương trình đếm số lần xuất hiện của các chữ cái trong\n",
    "1 chuỗi cho trước"
   ]
  },
  {
   "cell_type": "code",
   "execution_count": 4,
   "id": "fb431376",
   "metadata": {},
   "outputs": [
    {
     "name": "stdout",
     "output_type": "stream",
     "text": [
      "N -  1\n",
      "G -  1\n",
      "u -  2\n",
      "y -  1\n",
      "ễ -  1\n",
      "n -  3\n",
      "V -  1\n",
      "ă -  1\n",
      "C -  1\n",
      "h -  1\n",
      "g -  1\n"
     ]
    }
   ],
   "source": [
    "def count_char(text):\n",
    "  for i in range(len(text)):\n",
    "    if len(text) == 0:\n",
    "      break;\n",
    "    ch = text[0]\n",
    "    if ch == ' ' or ch == '\\t':\n",
    "        continue\n",
    "    count = 1\n",
    "    for j in range(1, len(text)):\n",
    "      if ch == text[j]:\n",
    "        count += 1\n",
    "    text = text.replace(ch, '').strip()\n",
    "    print(ch + \" - \", count)\n",
    "\n",
    "count_char('NGuyễn Văn Chung')"
   ]
  },
  {
   "cell_type": "markdown",
   "id": "1f58aa9d",
   "metadata": {},
   "source": [
    "CÂU 6 : viết chương trình khai báo một hàm :n loss(y,y_hat,x)"
   ]
  },
  {
   "cell_type": "code",
   "execution_count": 6,
   "id": "c434d18a",
   "metadata": {},
   "outputs": [
    {
     "name": "stdout",
     "output_type": "stream",
     "text": [
      "0.125\n"
     ]
    }
   ],
   "source": [
    "def loss(y, y_hat , x):\n",
    "    if abs(y - y_hat) <= x :\n",
    "        return 1 / 2 * (y - y_hat) * (y - y_hat)\n",
    "    else:\n",
    "        return x * (abs(y - y_hat) - 1 / 2 * x)\n",
    "print(loss(1.5, 2 , 0.5))"
   ]
  }
 ],
 "metadata": {
  "kernelspec": {
   "display_name": "Python 3 (ipykernel)",
   "language": "python",
   "name": "python3"
  },
  "language_info": {
   "codemirror_mode": {
    "name": "ipython",
    "version": 3
   },
   "file_extension": ".py",
   "mimetype": "text/x-python",
   "name": "python",
   "nbconvert_exporter": "python",
   "pygments_lexer": "ipython3",
   "version": "3.9.7"
  }
 },
 "nbformat": 4,
 "nbformat_minor": 5
}
