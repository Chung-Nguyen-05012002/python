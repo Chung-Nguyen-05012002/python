{
 "cells": [
  {
   "cell_type": "code",
   "execution_count": 20,
   "id": "cd25cdd9",
   "metadata": {
    "scrolled": true
   },
   "outputs": [
    {
     "name": "stdout",
     "output_type": "stream",
     "text": [
      "nhap do dai 1 canh : 5\n",
      "the tich hinh lap phuong co canh = 5 la 125\n"
     ]
    }
   ],
   "source": [
    "\n",
    "def the_tich_lap_phuong(s) :\n",
    " return  s * s * s\n",
    "s = input(\"nhap do dai 1 canh : \")\n",
    "s = int(s)\n",
    "print(f\"the tich hinh lap phuong co canh = {s} la {the_tich_lap_phuong(s)}\")\n"
   ]
  },
  {
   "cell_type": "code",
   "execution_count": 22,
   "id": "59a20a83",
   "metadata": {},
   "outputs": [
    {
     "name": "stdout",
     "output_type": "stream",
     "text": [
      "nhap chieu dai : 3\n",
      "nhap chieu rong : 4\n",
      "nhap chieu cao : 5\n",
      "the tich cua hinh hop chu nhat la 60\n"
     ]
    }
   ],
   "source": [
    "def the_tich_hinh_hop_chu_nhat(i,w,h) : \n",
    "    return i * w * h\n",
    "i = input(\"nhap chieu dai : \")\n",
    "i = int(i)\n",
    "w = input(\"nhap chieu rong : \")\n",
    "w = int(w)\n",
    "h = input(\"nhap chieu cao : \")\n",
    "h = int(h)\n",
    "print(f\"the tich cua hinh hop chu nhat la {the_tich_hinh_hop_chu_nhat(i,w,h)}\")"
   ]
  },
  {
   "cell_type": "code",
   "execution_count": 23,
   "id": "353293be",
   "metadata": {},
   "outputs": [
    {
     "name": "stdout",
     "output_type": "stream",
     "text": [
      "nhap chieu rong : 1\n",
      "nhap chieu cao : 1\n",
      "the tich hinh tru tron la 3.14\n"
     ]
    }
   ],
   "source": [
    "def v_tru_tron(r,h):\n",
    "    pi = 3.14\n",
    "    return pi * r * r * h\n",
    "r = input(\"nhap chieu rong : \")\n",
    "r = int(r)\n",
    "h = input(\"nhap chieu cao : \")\n",
    "h = int(h)\n",
    "print(f\"the tich hinh tru tron la {v_tru_tron(r,h)}\")"
   ]
  },
  {
   "cell_type": "code",
   "execution_count": 24,
   "id": "48636697",
   "metadata": {},
   "outputs": [
    {
     "name": "stdout",
     "output_type": "stream",
     "text": [
      "nhap ban kinh : 1\n",
      "the tich hinh cau la 4.1866666666666665\n"
     ]
    }
   ],
   "source": [
    "def v_cau(r):\n",
    "    pi = 3.14\n",
    "    return 4 / 3 * pi * r * r * r\n",
    "r = input(\"nhap ban kinh : \")\n",
    "r = int(r)\n",
    "print(f\"the tich hinh cau la {v_cau(r)}\");"
   ]
  },
  {
   "cell_type": "code",
   "execution_count": null,
   "id": "8bdd2717",
   "metadata": {},
   "outputs": [],
   "source": []
  }
 ],
 "metadata": {
  "kernelspec": {
   "display_name": "Python 3 (ipykernel)",
   "language": "python",
   "name": "python3"
  },
  "language_info": {
   "codemirror_mode": {
    "name": "ipython",
    "version": 3
   },
   "file_extension": ".py",
   "mimetype": "text/x-python",
   "name": "python",
   "nbconvert_exporter": "python",
   "pygments_lexer": "ipython3",
   "version": "3.9.7"
  }
 },
 "nbformat": 4,
 "nbformat_minor": 5
}
